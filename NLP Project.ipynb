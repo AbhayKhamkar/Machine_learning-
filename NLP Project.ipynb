{
 "cells": [
  {
   "cell_type": "code",
   "execution_count": 1,
   "id": "a2a5a5a9-2b22-4f45-b0b7-5ac18ac79978",
   "metadata": {},
   "outputs": [],
   "source": [
    "import time\n",
    "import math\n",
    "import ffmpeg\n",
    "from faster_whisper import WhisperModel"
   ]
  },
  {
   "cell_type": "code",
   "execution_count": 2,
   "id": "92e1e7c4-fa43-4b8d-89a3-51e57a0a688e",
   "metadata": {},
   "outputs": [],
   "source": [
    "input_video=\"PDF EXTRACT.mp4\"\n",
    "input_video_name=input_video.replace(\".mp4\",\"\")"
   ]
  },
  {
   "cell_type": "code",
   "execution_count": 3,
   "id": "0fe9fb6c-0aab-499f-a1b5-1639e55a09d6",
   "metadata": {},
   "outputs": [
    {
     "data": {
      "text/plain": [
       "'PDF EXTRACT'"
      ]
     },
     "execution_count": 3,
     "metadata": {},
     "output_type": "execute_result"
    }
   ],
   "source": [
    "input_video_name"
   ]
  },
  {
   "cell_type": "code",
   "execution_count": 4,
   "id": "e3741684-56ec-4873-bdd8-b4061325ed2e",
   "metadata": {},
   "outputs": [
    {
     "name": "stdout",
     "output_type": "stream",
     "text": [
      "{'video_found': True, 'audio_found': True, 'metadata': {'major_brand': 'mp42', 'minor_version': '0', 'compatible_brands': 'mp42isom'}, 'inputs': [{'streams': [{'input_number': 0, 'stream_number': 0, 'stream_type': 'video', 'language': None, 'default': True, 'size': [1280, 720], 'bitrate': 520, 'fps': 29.97002997002997, 'codec_name': 'h264', 'profile': '(Main)', 'metadata': {'Metadata': '', 'vendor_id': '[0][0][0][0]'}}, {'input_number': 0, 'stream_number': 1, 'stream_type': 'audio', 'language': None, 'default': True, 'fps': 44100, 'bitrate': 128, 'metadata': {'Metadata': '', 'vendor_id': '[0][0][0][0]'}}], 'input_number': 0}], 'duration': 64.85, 'bitrate': 652, 'start': 0.0, 'default_video_input_number': 0, 'default_video_stream_number': 0, 'video_codec_name': 'h264', 'video_profile': '(Main)', 'video_size': [1280, 720], 'video_bitrate': 520, 'video_fps': 29.97002997002997, 'default_audio_input_number': 0, 'default_audio_stream_number': 1, 'audio_fps': 44100, 'audio_bitrate': 128, 'video_duration': 64.85, 'video_n_frames': 1943}\n",
      "C:\\Users\\abhay\\AppData\\Local\\Programs\\Python\\Python312\\Lib\\site-packages\\imageio_ffmpeg\\binaries\\ffmpeg-win-x86_64-v7.1.exe -i PDF EXTRACT.mp4 -loglevel error -f image2pipe -vf scale=1280:720 -sws_flags bicubic -pix_fmt rgb24 -vcodec rawvideo -\n",
      "MoviePy - Writing audio in extracted_audio.mp3\n"
     ]
    },
    {
     "name": "stderr",
     "output_type": "stream",
     "text": [
      "                                                                                                                       "
     ]
    },
    {
     "name": "stdout",
     "output_type": "stream",
     "text": [
      "MoviePy - Done.\n",
      "Audio extracted and saved at extracted_audio.mp3\n"
     ]
    },
    {
     "name": "stderr",
     "output_type": "stream",
     "text": [
      "\r"
     ]
    }
   ],
   "source": [
    "from moviepy.video.io.VideoFileClip import VideoFileClip\n",
    "\n",
    "def extract_audio(video_path, output_audio_path):\n",
    "    \"\"\"Extracts and saves the audio from a video file.\"\"\"\n",
    "    video = VideoFileClip(video_path)\n",
    "    video.audio.write_audiofile(output_audio_path)\n",
    "    print(f\"Audio extracted and saved at {output_audio_path}\")\n",
    "\n",
    "# Usage\n",
    "video_file = \"PDF EXTRACT.mp4\"\n",
    "audio_file = \"extracted_audio.mp3\"  # Can be .wav, .mp3, etc.\n",
    "\n",
    "extract_audio(video_file, audio_file)"
   ]
  },
  {
   "cell_type": "code",
   "execution_count": 5,
   "id": "beee271c-8944-4bc5-867f-3a26c9ad1bff",
   "metadata": {},
   "outputs": [
    {
     "name": "stdout",
     "output_type": "stream",
     "text": [
      "Name: moviepy\n",
      "Version: 2.1.2\n",
      "Summary: Video editing with Python\n",
      "Home-page: \n",
      "Author: Zulko 2024\n",
      "Author-email: \n",
      "License: MIT License\n",
      "Location: C:\\Users\\abhay\\AppData\\Local\\Programs\\Python\\Python312\\Lib\\site-packages\n",
      "Requires: decorator, imageio, imageio_ffmpeg, numpy, pillow, proglog, python-dotenv\n",
      "Required-by: \n"
     ]
    }
   ],
   "source": [
    "import sys\n",
    "!{sys.executable} -m pip show moviepy"
   ]
  },
  {
   "cell_type": "code",
   "execution_count": 6,
   "id": "19d7145d-476f-407f-9efd-02a0b258aac0",
   "metadata": {},
   "outputs": [
    {
     "name": "stdout",
     "output_type": "stream",
     "text": [
      "Requirement already satisfied: moviepy in c:\\users\\abhay\\appdata\\local\\programs\\python\\python312\\lib\\site-packages (2.1.2)\n",
      "Requirement already satisfied: decorator<6.0,>=4.0.2 in c:\\users\\abhay\\appdata\\roaming\\python\\python312\\site-packages (from moviepy) (5.1.1)\n",
      "Requirement already satisfied: imageio<3.0,>=2.5 in c:\\users\\abhay\\appdata\\local\\programs\\python\\python312\\lib\\site-packages (from moviepy) (2.37.0)\n",
      "Requirement already satisfied: imageio_ffmpeg>=0.2.0 in c:\\users\\abhay\\appdata\\local\\programs\\python\\python312\\lib\\site-packages (from moviepy) (0.6.0)\n",
      "Requirement already satisfied: numpy>=1.25.0 in c:\\users\\abhay\\appdata\\roaming\\python\\python312\\site-packages (from moviepy) (1.26.4)\n",
      "Requirement already satisfied: proglog<=1.0.0 in c:\\users\\abhay\\appdata\\local\\programs\\python\\python312\\lib\\site-packages (from moviepy) (0.1.10)\n",
      "Requirement already satisfied: python-dotenv>=0.10 in c:\\users\\abhay\\appdata\\roaming\\python\\python312\\site-packages (from moviepy) (1.0.1)\n",
      "Requirement already satisfied: pillow<11.0,>=9.2.0 in c:\\users\\abhay\\appdata\\local\\programs\\python\\python312\\lib\\site-packages (from moviepy) (10.3.0)\n",
      "Requirement already satisfied: tqdm in c:\\users\\abhay\\appdata\\roaming\\python\\python312\\site-packages (from proglog<=1.0.0->moviepy) (4.66.4)\n",
      "Requirement already satisfied: colorama in c:\\users\\abhay\\appdata\\roaming\\python\\python312\\site-packages (from tqdm->proglog<=1.0.0->moviepy) (0.4.6)\n"
     ]
    }
   ],
   "source": [
    "import sys\n",
    "!{sys.executable} -m pip install moviepy\n"
   ]
  },
  {
   "cell_type": "code",
   "execution_count": 7,
   "id": "ed77c9da-2501-476b-a118-4dc9d878603e",
   "metadata": {},
   "outputs": [
    {
     "name": "stdout",
     "output_type": "stream",
     "text": [
      "{'video_found': True, 'audio_found': True, 'metadata': {'major_brand': 'mp42', 'minor_version': '0', 'compatible_brands': 'mp42isom'}, 'inputs': [{'streams': [{'input_number': 0, 'stream_number': 0, 'stream_type': 'video', 'language': None, 'default': True, 'size': [1280, 720], 'bitrate': 520, 'fps': 29.97002997002997, 'codec_name': 'h264', 'profile': '(Main)', 'metadata': {'Metadata': '', 'vendor_id': '[0][0][0][0]'}}, {'input_number': 0, 'stream_number': 1, 'stream_type': 'audio', 'language': None, 'default': True, 'fps': 44100, 'bitrate': 128, 'metadata': {'Metadata': '', 'vendor_id': '[0][0][0][0]'}}], 'input_number': 0}], 'duration': 64.85, 'bitrate': 652, 'start': 0.0, 'default_video_input_number': 0, 'default_video_stream_number': 0, 'video_codec_name': 'h264', 'video_profile': '(Main)', 'video_size': [1280, 720], 'video_bitrate': 520, 'video_fps': 29.97002997002997, 'default_audio_input_number': 0, 'default_audio_stream_number': 1, 'audio_fps': 44100, 'audio_bitrate': 128, 'video_duration': 64.85, 'video_n_frames': 1943}\n",
      "C:\\Users\\abhay\\AppData\\Local\\Programs\\Python\\Python312\\Lib\\site-packages\\imageio_ffmpeg\\binaries\\ffmpeg-win-x86_64-v7.1.exe -i PDF EXTRACT.mp4 -loglevel error -f image2pipe -vf scale=1280:720 -sws_flags bicubic -pix_fmt rgb24 -vcodec rawvideo -\n",
      "MoviePy - Writing audio in output_audio.mp3\n"
     ]
    },
    {
     "name": "stderr",
     "output_type": "stream",
     "text": [
      "                                                                                                                       "
     ]
    },
    {
     "name": "stdout",
     "output_type": "stream",
     "text": [
      "MoviePy - Done.\n",
      "Audio extracted and saved to output_audio.mp3\n"
     ]
    },
    {
     "name": "stderr",
     "output_type": "stream",
     "text": [
      "\r"
     ]
    }
   ],
   "source": [
    "from moviepy.video.io.VideoFileClip import VideoFileClip\n",
    "\n",
    "def extract_audio(video_path, audio_output_path):\n",
    "    try:\n",
    "        video = VideoFileClip(video_path)\n",
    "        video.audio.write_audiofile(audio_output_path)\n",
    "        print(f\"Audio extracted and saved to {audio_output_path}\")\n",
    "    except Exception as e:\n",
    "        print(f\"Error: {e}\")\n",
    "\n",
    "# Example usage\n",
    "video_path = \"PDF EXTRACT.mp4\"  # Replace with your video file\n",
    "audio_output_path = \"output_audio.mp3\"  # Replace with desired audio output path\n",
    "extract_audio(video_path, audio_output_path)"
   ]
  },
  {
   "cell_type": "code",
   "execution_count": 8,
   "id": "aad037f6-50bf-499b-9220-7f6d4e258e3e",
   "metadata": {},
   "outputs": [],
   "source": [
    "import moviepy as mp"
   ]
  },
  {
   "cell_type": "code",
   "execution_count": 9,
   "id": "bd4c53b1-d395-480d-9c66-1c5a45eb3710",
   "metadata": {},
   "outputs": [
    {
     "name": "stderr",
     "output_type": "stream",
     "text": [
      "C:\\Users\\abhay\\AppData\\Local\\Programs\\Python\\Python312\\Lib\\site-packages\\whisper\\model.py:124: UserWarning: 1Torch was not compiled with flash attention. (Triggered internally at ..\\aten\\src\\ATen\\native\\transformers\\cuda\\sdp_utils.cpp:455.)\n",
      "  a = scaled_dot_product_attention(\n"
     ]
    },
    {
     "name": "stdout",
     "output_type": "stream",
     "text": [
      "Original text:  وہ تریلو دن اور اس کا پتا ہمیں ان்தوں سے பட்டலہ نہ چاہئے اٹنہ چھوٹہ لکشمت رکھ ہو بھی یہ چھوٹہ لکش ہے سویم کیلے تو پیشو پکشی بھی لگلے تھیں سنگھرش وہ ہے جو پورے سماج کیلے کیا جہے مطلب ہسٹنہ پور پتن کی اور جارہ ہے پر آجہ ہی نہیں ہر وقتی ان்தہ ہے اپنے سوارت میں یہ دیشہ ہسٹنہ پور کی نہیں سمپور نہ آریہ ورٹ کی ہے اپراد ادھرم آتنک نے اپنی جڑے جمالی پر جاپر چاروں اور سکتے اچھا چار ہو رہے تمہیس اندھکار کو دور کرنا ہے آریہ ورٹ میں دھرم راجس ساپت کرنا ہے آپ سہی کہ رہے ہیں ہاں ہم آپ کے ساتھ ہیں اُتتم اتی اُتتم آریہ ورٹ کو تو تبھچھایں گے جب اپنی گردن بچے یا تو چاروں داکھ کو بیٹھ ہیں بھیم بتا یہ کیسے ہوگا یہ سنگھر بشواص سے ساہ سے درڈ نشچے سے\n"
     ]
    }
   ],
   "source": [
    "import whisper\n",
    "\n",
    "model = whisper.load_model(\"base\")\n",
    "result = model.transcribe(\"output_audio.mp3\", language=\"hi\")  # e.g., original in Hindi\n",
    "print(\"Original text:\", result[\"text\"])"
   ]
  },
  {
   "cell_type": "code",
   "execution_count": 10,
   "id": "4ae8b577-dece-491f-98fe-c7d7e10f7bbb",
   "metadata": {},
   "outputs": [
    {
     "name": "stdout",
     "output_type": "stream",
     "text": [
      "Original text:  وہ تریلو دن اور اس کا پتا ہمیں ان்தوں سے பட்டலہ نہ چاہئے اٹنہ چھوٹہ لکشمت رکھ ہو بھی یہ چھوٹہ لکش ہے سویم کیلے تو پیشو پکشی بھی لگلے تھیں سنگھرش وہ ہے جو پورے سماج کیلے کیا جہے مطلب ہسٹنہ پور پتن کی اور جارہ ہے پر آجہ ہی نہیں ہر وقتی ان்தہ ہے اپنے سوارت میں یہ دیشہ ہسٹنہ پور کی نہیں سمپور نہ آریہ ورٹ کی ہے اپراد ادھرم آتنک نے اپنی جڑے جمالی پر جاپر چاروں اور سکتے اچھا چار ہو رہے تمہیس اندھکار کو دور کرنا ہے آریہ ورٹ میں دھرم راجس ساپت کرنا ہے آپ سہی کہ رہے ہیں ہاں ہم آپ کے ساتھ ہیں اُتتم اتی اُتتم آریہ ورٹ کو تو تبھچھایں گے جب اپنی گردن بچے یا تو چاروں داکھ کو بیٹھ ہیں بھیم بتا یہ کیسے ہوگا یہ سنگھر بشواص سے ساہ سے درڈ نشچے سے\n"
     ]
    }
   ],
   "source": [
    "import whisper\n",
    "\n",
    "model = whisper.load_model(\"base\")\n",
    "result = model.transcribe(\"output_audio.mp3\", language=\"hi\")\n",
    "print(\"Original text:\", result[\"text\"])"
   ]
  },
  {
   "cell_type": "code",
   "execution_count": 11,
   "id": "0fa354c4-1f14-451f-9a64-8d192a0826de",
   "metadata": {},
   "outputs": [
    {
     "name": "stdout",
     "output_type": "stream",
     "text": [
      "Detected language: hi\n",
      "Original text:  وہ تریلو دن اور اس کا پتا ہمیں ان்தوں سے பட்டலہ نہ چاہئے اٹنہ چھوٹہ لکشمت رکھ ہو بھی یہ چھوٹہ لکش ہے سویم کیلے تو پیشو پکشی بھی لگلے تھیں سنگھرش وہ ہے جو پورے سماج کیلے کیا جہے مطلب ہسٹنہ پور پتن کی اور جارہ ہے پر آجہ ہی نہیں ہر وقتی ان்தہ ہے اپنے سوارت میں یہ دیشہ ہسٹنہ پور کی نہیں سمپور نہ آریہ ورٹ کی ہے اپراد ادھرم آتنک نے اپنی جڑے جمالی پر جاپر چاروں اور سکتے اچھا چار ہو رہے تمہیس اندھکار کو دور کرنا ہے آریہ ورٹ میں دھرم راجس ساپت کرنا ہے آپ سہی کہ رہے ہیں ہاں ہم آپ کے ساتھ ہیں اُتتم اتی اُتتم آریہ ورٹ کو تو تبھچھایں گے جب اپنی گردن بچے یا تو چاروں داکھ کو بیٹھ ہیں بھیم بتا یہ کیسے ہوگا یہ سنگھر بشواص سے ساہ سے درڈ نشچے سے\n"
     ]
    }
   ],
   "source": [
    "result = model.transcribe(\"output_audio.mp3\")  # Don't pass language=\"hi\"\n",
    "print(\"Detected language:\", result[\"language\"])\n",
    "print(\"Original text:\", result[\"text\"])"
   ]
  },
  {
   "cell_type": "code",
   "execution_count": 12,
   "id": "7d341c83-7ef2-475b-a170-2ad5cc8e8742",
   "metadata": {},
   "outputs": [
    {
     "name": "stdout",
     "output_type": "stream",
     "text": [
      "Original text (Hindi):  وہ تریلو دن اور اس کا پتا ہمیں ان்தوں سے பட்டலہ نہ چاہئے اٹنہ چھوٹہ لکشمت رکھ ہو بھی یہ چھوٹہ لکش ہے سویم کیلے تو پیشو پکشی بھی لگلے تھیں سنگھرش وہ ہے جو پورے سماج کیلے کیا جہے مطلب ہسٹنہ پور پتن کی اور جارہ ہے پر آجہ ہی نہیں ہر وقتی ان்தہ ہے اپنے سوارت میں یہ دیشہ ہسٹنہ پور کی نہیں سمپور نہ آریہ ورٹ کی ہے اپراد ادھرم آتنک نے اپنی جڑے جمالی پر جاپر چاروں اور سکتے اچھا چار ہو رہے تمہیس اندھکار کو دور کرنا ہے آریہ ورٹ میں دھرم راجس ساپت کرنا ہے آپ سہی کہ رہے ہیں ہاں ہم آپ کے ساتھ ہیں اُتتم اتی اُتتم آریہ ورٹ کو تو تبھچھایں گے جب اپنی گردن بچے یا تو چاروں داکھ کو بیٹھ ہیں بھیم بتا یہ کیسے ہوگا یہ سنگھر بشواص سے ساہ سے درڈ نشچے سے\n"
     ]
    }
   ],
   "source": [
    "result = model.transcribe(\"output_audio.mp3\", language=\"hi\", task=\"transcribe\")\n",
    "print(\"Original text (Hindi):\", result[\"text\"])"
   ]
  },
  {
   "cell_type": "code",
   "execution_count": 13,
   "id": "cf9865b6-c0ce-4cae-aac0-b72eba3e06e6",
   "metadata": {},
   "outputs": [
    {
     "name": "stdout",
     "output_type": "stream",
     "text": [
      "Detected language: hi\n"
     ]
    }
   ],
   "source": [
    "print(\"Detected language:\", result[\"language\"])"
   ]
  },
  {
   "cell_type": "code",
   "execution_count": 14,
   "id": "389c6cf9-df20-4d11-b391-f5a1e1831014",
   "metadata": {},
   "outputs": [
    {
     "name": "stderr",
     "output_type": "stream",
     "text": [
      "100%|█████████████████████████████████████| 1.42G/1.42G [02:06<00:00, 12.1MiB/s]\n"
     ]
    }
   ],
   "source": [
    "model = whisper.load_model(\"medium\")"
   ]
  },
  {
   "cell_type": "code",
   "execution_count": null,
   "id": "84bdcdd8-a6e5-4055-8410-db66005bf1e4",
   "metadata": {},
   "outputs": [],
   "source": []
  },
  {
   "cell_type": "code",
   "execution_count": 16,
   "id": "407c27c8-be0a-49b8-819b-19c4245eeb76",
   "metadata": {},
   "outputs": [
    {
     "data": {
      "text/plain": [
       "<_io.BufferedRandom name='output_audio.wav'>"
      ]
     },
     "execution_count": 16,
     "metadata": {},
     "output_type": "execute_result"
    }
   ],
   "source": [
    "from pydub import AudioSegment\n",
    "\n",
    "# Load MP3 and export as WAV\n",
    "audio = AudioSegment.from_mp3(\"output_audio.mp3\")\n",
    "audio.export(\"output_audio.wav\", format=\"wav\")"
   ]
  },
  {
   "cell_type": "code",
   "execution_count": 17,
   "id": "2a45f991-b912-4303-8a1b-08dbddb033f7",
   "metadata": {},
   "outputs": [
    {
     "name": "stdout",
     "output_type": "stream",
     "text": [
      "Hindi Text: और उसका पिता हमें उन दोनों से बदला लेना चाहिए इतना छोटा लक्ष्य मत रखो संघर्ष वह है जो पूरे समाज के लिए किया जाए मतलब हस्तिनापुर पतंग की ओर जा रहा है राजा ही नहीं हर व्यक्ति अंधा है अपने स्वार्थ में यह दशा हस्तिनापुर की नहीं संपूर्ण आर्यावर्त किए अंधकार को दूर करना है आर्यावर्त में धर्म राज्य स्थापित करना है\n"
     ]
    }
   ],
   "source": [
    "import speech_recognition as sr\n",
    "\n",
    "recognizer = sr.Recognizer()\n",
    "\n",
    "with sr.AudioFile(\"output_audio.wav\") as source:\n",
    "    audio_data = recognizer.record(source)\n",
    "\n",
    "# Transcribe in Hindi\n",
    "text = recognizer.recognize_google(audio_data, language='hi-IN')\n",
    "print(\"Hindi Text:\", text)\n"
   ]
  },
  {
   "cell_type": "code",
   "execution_count": 18,
   "id": "f18b204e-35d8-4e93-a01e-b4c50b503dc3",
   "metadata": {},
   "outputs": [
    {
     "name": "stdout",
     "output_type": "stream",
     "text": [
      "English Translation: And his father we should take revenge on both of them. Do not keep such a small goal. The struggle is that which is going to the whole society, meaning that the king is going towards the kite, not only the king, not only every person is blind, in his selfishness, this condition has to be removed, not the darkness of Hastinapur, not to remove the entire Aryavarta of Hastinapur.\n"
     ]
    }
   ],
   "source": [
    "from googletrans import Translator\n",
    "\n",
    "translator = Translator()\n",
    "translated = translator.translate(text, src='hi', dest='en')\n",
    "print(\"English Translation:\", translated.text)\n"
   ]
  },
  {
   "cell_type": "code",
   "execution_count": 19,
   "id": "52a57484-fd7a-4425-95e4-d0b79b73ca13",
   "metadata": {},
   "outputs": [],
   "source": [
    "from gtts import gTTS\n",
    "\n",
    "tts = gTTS(translated.text, lang=\"en\")\n",
    "tts.save(\"translated_audio.mp3\")"
   ]
  },
  {
   "cell_type": "code",
   "execution_count": 21,
   "id": "8e668000-7f81-422a-8a2e-3b5ddddbeced",
   "metadata": {},
   "outputs": [
    {
     "name": "stdout",
     "output_type": "stream",
     "text": [
      "0 Microsoft David Desktop - English (United States) None\n",
      "1 Microsoft Zira Desktop - English (United States) None\n"
     ]
    }
   ],
   "source": [
    "import pyttsx3\n",
    "\n",
    "engine = pyttsx3.init()\n",
    "\n",
    "# List all available voices\n",
    "voices = engine.getProperty('voices')\n",
    "for index, voice in enumerate(voices):\n",
    "    print(index, voice.name, voice.gender)\n",
    "\n",
    "# Select male voice (adjust index based on your output)\n",
    "engine.setProperty('voice', voices[0].id)  # 0 or 1 — try both to find the male voice\n",
    "\n",
    "engine.save_to_file(translated.text, 'translated_audio_male.mp3')\n",
    "engine.runAndWait()"
   ]
  },
  {
   "cell_type": "code",
   "execution_count": null,
   "id": "9bbe2e86-348e-4326-b56a-013105fc240f",
   "metadata": {},
   "outputs": [],
   "source": []
  }
 ],
 "metadata": {
  "kernelspec": {
   "display_name": "Python 3 (ipykernel)",
   "language": "python",
   "name": "python3"
  },
  "language_info": {
   "codemirror_mode": {
    "name": "ipython",
    "version": 3
   },
   "file_extension": ".py",
   "mimetype": "text/x-python",
   "name": "python",
   "nbconvert_exporter": "python",
   "pygments_lexer": "ipython3",
   "version": "3.12.7"
  }
 },
 "nbformat": 4,
 "nbformat_minor": 5
}
